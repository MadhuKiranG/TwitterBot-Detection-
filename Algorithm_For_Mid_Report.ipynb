{
 "cells": [
  {
   "cell_type": "code",
   "execution_count": 1,
   "metadata": {
    "collapsed": true
   },
   "outputs": [],
   "source": [
    "import csv\n",
    "\n",
    "import re\n",
    "f = open('cleaned_users_tweets.csv','r')\n",
    "r1 = csv.reader(f)\n",
    "alltweets = []\n",
    "for row in r1:\n",
    "    if(len(row)!=0):\n",
    "        t=row[0]\n",
    "        alltweets.append(re.sub(r'x[0-9a-fA-F]+|RT',r'', t))"
   ]
  },
  {
   "cell_type": "code",
   "execution_count": 2,
   "metadata": {
    "collapsed": true
   },
   "outputs": [],
   "source": [
    "f1 = open('cleaned_bots_tweets.csv','r')\n",
    "r2 = csv.reader(f1)\n",
    "alltweetsb = []\n",
    "for row in r2:\n",
    "    if(len(row)!=0):\n",
    "        t=row[0]\n",
    "        alltweetsb.append(re.sub(r'x[0-9a-fA-F]+|RT',r'', t))"
   ]
  },
  {
   "cell_type": "code",
   "execution_count": 3,
   "metadata": {
    "collapsed": true
   },
   "outputs": [],
   "source": [
    "botdes=[]\n",
    "for i in range(0,len(alltweets)):\n",
    "    botdes.append(0)\n",
    "for i in range(0,len(alltweetsb)):\n",
    "    botdes.append(1)"
   ]
  },
  {
   "cell_type": "code",
   "execution_count": 4,
   "metadata": {
    "collapsed": true
   },
   "outputs": [],
   "source": [
    "\n",
    "data_tweets= alltweets+alltweetsb"
   ]
  },
  {
   "cell_type": "code",
   "execution_count": 5,
   "metadata": {
    "collapsed": false
   },
   "outputs": [],
   "source": [
    "c=zip(data_tweets,botdes)\n",
    "c=list(c)"
   ]
  },
  {
   "cell_type": "code",
   "execution_count": 6,
   "metadata": {
    "collapsed": false
   },
   "outputs": [],
   "source": [
    "data = data_tweets\n",
    "target = botdes"
   ]
  },
  {
   "cell_type": "code",
   "execution_count": 7,
   "metadata": {
    "collapsed": false
   },
   "outputs": [
    {
     "name": "stderr",
     "output_type": "stream",
     "text": [
      "/Users/dattasainathd/anaconda/lib/python3.6/site-packages/sklearn/cross_validation.py:44: DeprecationWarning: This module was deprecated in version 0.18 in favor of the model_selection module into which all the refactored classes and functions are moved. Also note that the interface of the new CV iterators are different from that of this module. This module will be removed in 0.20.\n",
      "  \"This module will be removed in 0.20.\", DeprecationWarning)\n"
     ]
    },
    {
     "name": "stdout",
     "output_type": "stream",
     "text": [
      "MULTINOMIALNB\n",
      "accuracy =  0.73058809009\n",
      "precision =  0.792848159975\n",
      "recall =  0.739619489068\n",
      "f1 =  0.763387716423\n",
      "AUC =  0.812143305514\n",
      "BERNOULLINB\n",
      "accuracy =  0.722752481633\n",
      "precision =  0.815924440531\n",
      "recall =  0.687885442116\n",
      "f1 =  0.743607622916\n",
      "AUC =  0.814566560657\n",
      "Logistic Regression\n",
      "accuracy =  0.735745712523\n",
      "precision =  0.785550698907\n",
      "recall =  0.762073539701\n",
      "f1 =  0.772432959054\n",
      "AUC =  0.810808492101\n"
     ]
    }
   ],
   "source": [
    "#!/usr/bin/env python -W ignore::DeprecationWarning\n",
    "from sklearn.linear_model import LogisticRegression\n",
    "from sklearn.feature_extraction.text import CountVectorizer\n",
    "from sklearn.cross_validation import cross_val_score\n",
    "import pandas as pd\n",
    "import numpy as np\n",
    "from sklearn.naive_bayes import MultinomialNB\n",
    "from sklearn.naive_bayes import BernoulliNB\n",
    "from sklearn.feature_extraction.text import CountVectorizer\n",
    "from sklearn.model_selection import cross_val_score\n",
    "from sklearn.linear_model import LogisticRegression\n",
    "\n",
    "\n",
    "count_vectorizer = CountVectorizer()\n",
    "X = count_vectorizer.fit_transform(data)\n",
    "from sklearn.feature_extraction.text import TfidfTransformer\n",
    "tf_transformer = TfidfTransformer(use_idf=False).fit(X)\n",
    "X = tf_transformer.transform(X)\n",
    "Y =target\n",
    "\n",
    "\n",
    "classifier1 = MultinomialNB()\n",
    "classifier2 = BernoulliNB()\n",
    "classifier3 = LogisticRegression()\n",
    "\n",
    "print(\"MULTINOMIALNB\")\n",
    "scores1 = cross_val_score(classifier1, X, Y, cv=10, scoring='accuracy')\n",
    "print(\"accuracy = \",scores1.mean())\n",
    "scores1 = cross_val_score(classifier1, X, Y, cv=10, scoring='precision')\n",
    "print(\"precision = \",scores1.mean())\n",
    "scores1 = cross_val_score(classifier1, X, Y, cv=10, scoring='recall')\n",
    "print(\"recall = \",scores1.mean())\n",
    "scores1 = cross_val_score(classifier1, X, Y, cv=10, scoring='f1')\n",
    "print(\"f1 = \",scores1.mean())\n",
    "scores1 = cross_val_score(classifier1, X, Y, cv=10, scoring='roc_auc')\n",
    "print(\"AUC = \",scores1.mean())\n",
    "print(\"BERNOULLINB\")\n",
    "scores2 = cross_val_score(classifier2, X, Y, cv=10, scoring='accuracy')\n",
    "print(\"accuracy = \",scores2.mean())\n",
    "scores2 = cross_val_score(classifier2, X, Y, cv=10, scoring='precision')\n",
    "print(\"precision = \",scores2.mean())\n",
    "scores2 = cross_val_score(classifier2, X, Y, cv=10, scoring='recall')\n",
    "print(\"recall = \",scores2.mean())\n",
    "scores2 = cross_val_score(classifier2, X, Y, cv=10, scoring='f1')\n",
    "print(\"f1 = \",scores2.mean())\n",
    "scores2 = cross_val_score(classifier2, X, Y, cv=10, scoring='roc_auc')\n",
    "print(\"AUC = \",scores2.mean())\n",
    "print(\"Logistic Regression\")\n",
    "scores3 = cross_val_score(classifier3, X, Y, cv=10, scoring='accuracy')\n",
    "print(\"accuracy = \",scores3.mean())\n",
    "scores3 = cross_val_score(classifier3, X, Y, cv=10, scoring='precision')\n",
    "print(\"precision = \",scores3.mean())\n",
    "scores3 = cross_val_score(classifier3, X, Y, cv=10, scoring='recall')\n",
    "print(\"recall = \",scores3.mean())\n",
    "scores3 = cross_val_score(classifier3, X, Y, cv=10, scoring='f1')\n",
    "print(\"f1 = \",scores3.mean())\n",
    "scores3 = cross_val_score(classifier3, X, Y, cv=10, scoring='roc_auc')\n",
    "print(\"AUC = \",scores3.mean())"
   ]
  },
  {
   "cell_type": "code",
   "execution_count": 8,
   "metadata": {
    "collapsed": true
   },
   "outputs": [],
   "source": [
    "import numpy as np\n",
    "import matplotlib.pyplot as plt\n",
    "from sklearn.metrics import roc_curve, auc"
   ]
  },
  {
   "cell_type": "code",
   "execution_count": 16,
   "metadata": {
    "collapsed": false
   },
   "outputs": [
    {
     "data": {
      "image/png": "[encoded data removed]",
      "text/plain": [
       "<matplotlib.figure.Figure at 0x1147c59e8>"
      ]
     },
     "metadata": {},
     "output_type": "display_data"
    }
   ],
   "source": [
    "from sklearn.model_selection import cross_val_predict\n",
    "\n",
    "lw=2\n",
    "\n",
    "probas = cross_val_predict(classifier1, X, Y, cv=10);\n",
    "# Compute ROC curve and area the curve for MNB\n",
    "fpr, tpr, thresholds = roc_curve(Y, probas)\n",
    "roc_auc = auc(fpr, tpr)\n",
    "plt.plot(fpr, tpr, lw=lw, color=\"yellow\",\n",
    "             label='Multinomial(area = %0.2f)' % ( scores1.mean()))\n",
    "probas = cross_val_predict(classifier2, X, Y, cv=10);\n",
    "# Compute ROC curve and area the curve for BNB\n",
    "fpr, tpr, thresholds = roc_curve(Y, probas)\n",
    "roc_auc = auc(fpr, tpr)\n",
    "plt.plot(fpr, tpr, lw=lw, color=\"blue\",\n",
    "             label='Bernoulli(area = %0.2f)' % (scores2.mean()))\n",
    "probas = cross_val_predict(classifier3, X, Y, cv=10);\n",
    "roc_auc = auc(fpr, tpr)\n",
    "\n",
    "# Compute ROC curve and area the curve for MNB\n",
    "fpr, tpr, thresholds = roc_curve(Y, probas)\n",
    "\n",
    "plt.plot(fpr, tpr, lw=lw, color=\"orange\",\n",
    "             label='Logistic Regression(area = %0.2f)' % ( scores3.mean()))\n",
    " \n",
    "fpr = [ 0.        ,  0.16056911,  1.        ]\n",
    "tpr = [ 0.        ,  0.85873984,  1.        ]\n",
    "plt.plot(fpr, tpr, lw=lw, color=\"red\",\n",
    "             label='New Algorithm(area = %0.2f)' % (0.85))\n",
    "\n",
    "plt.xlim([-0.05, 1.05])\n",
    "plt.ylim([-0.05, 1.05])\n",
    "plt.xlabel('False Positive Rate')\n",
    "plt.ylabel('True Positive Rate')\n",
    "plt.title('Receiver operating characteristic ')\n",
    "plt.legend(loc=\"lower right\")\n",
    "plt.show()"
   ]
  },
  {
   "cell_type": "code",
   "execution_count": null,
   "metadata": {
    "collapsed": true
   },
   "outputs": [],
   "source": []
  },
  {
   "cell_type": "code",
   "execution_count": null,
   "metadata": {
    "collapsed": true
   },
   "outputs": [],
   "source": []
  },
  {
   "cell_type": "code",
   "execution_count": 10,
   "metadata": {
    "collapsed": false
   },
   "outputs": [
    {
     "name": "stdout",
     "output_type": "stream",
     "text": [
      "MSE =  0.26941190991\n",
      "MSE =  0.277247518367\n",
      "MSE =  0.264254287477\n"
     ]
    }
   ],
   "source": [
    "scores1 = cross_val_score(classifier1, X, Y, cv=10, scoring='neg_mean_squared_error')\n",
    "print(\"MSE = \",-1*scores1.mean())\n",
    "scores2 = cross_val_score(classifier2, X, Y, cv=10, scoring='neg_mean_squared_error')\n",
    "print(\"MSE = \",-1*scores2.mean())\n",
    "scores3 = cross_val_score(classifier3, X, Y, cv=10, scoring='neg_mean_squared_error')\n",
    "print(\"MSE = \",-1*scores3.mean())"
   ]
  },
  {
   "cell_type": "code",
   "execution_count": null,
   "metadata": {
    "collapsed": true
   },
   "outputs": [],
   "source": []
  }
 ],
 "metadata": {
  "kernelspec": {
   "display_name": "Python 3",
   "language": "python",
   "name": "python3"
  },
  "language_info": {
   "codemirror_mode": {
    "name": "ipython",
    "version": 3
   },
   "file_extension": ".py",
   "mimetype": "text/x-python",
   "name": "python",
   "nbconvert_exporter": "python",
   "pygments_lexer": "ipython3",
   "version": "3.6.0"
  }
 },
 "nbformat": 4,
 "nbformat_minor": 2
}
