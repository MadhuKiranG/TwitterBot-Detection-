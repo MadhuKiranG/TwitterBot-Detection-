{
 "cells": [
  {
   "cell_type": "code",
   "execution_count": 15,
   "metadata": {
    "collapsed": false
   },
   "outputs": [
    {
     "name": "stdout",
     "output_type": "stream",
     "text": [
      "Made a serial column which can be used for plotting purposes\n",
      "Initializing two rows of Value with 0 & user with 1\n"
     ]
    }
   ],
   "source": [
    "import pandas as pd\n",
    "import numpy as np\n",
    "from sklearn.metrics import *\n",
    "import matplotlib\n",
    "import matplotlib.pyplot as plt\n",
    "%matplotlib inline\n",
    "\n",
    "\n",
    "\n",
    "path_to_insults = '/Users/dattasainathd/Downloads/'\n",
    "data2 = pd.read_csv(path_to_insults + 'final_train_bot.csv',na_values='0', encoding = \"ISO-8859-1\", nrows = 1320)\n",
    "\n",
    "data2['no'] = 0\n",
    "for x in range(0,data2.shape[0]):\n",
    "    data2.loc[x, 'no']=x\n",
    "print(\"Made a serial column which can be used for plotting purposes\")  \n",
    "\n",
    "print(\"Initializing two rows of Value with 0 & user with 1\")\n",
    "data2['Value'] = 1\n",
    "data2['bot'] = 1\n"
   ]
  },
  {
   "cell_type": "code",
   "execution_count": 16,
   "metadata": {
    "collapsed": false
   },
   "outputs": [
    {
     "name": "stdout",
     "output_type": "stream",
     "text": [
      "Doing all the necessary changes for the data for evaluation\n",
      "Did all the necessary changes for the data for evaluation\n"
     ]
    }
   ],
   "source": [
    "print(\"Doing all the necessary changes for the data for evaluation\")\n",
    "\n",
    "data2 = data2.drop('created_at', axis=1)\n",
    "data2.verified=data2.verified.astype(int)\n",
    "data2.default_profile=data2.default_profile.astype(int)\n",
    "data2.default_profile_image=data2.default_profile_image.astype(int)\n",
    "\n",
    "data2 = data2.drop('status', axis=1)\n",
    "data2 = data2.drop('id', axis=1)\n",
    "data2 = data2.drop('id_str', axis=1)\n",
    "data2 = data2.drop('url', axis=1)\n",
    "#data2 = data2[data2.verified != 1]\n",
    "data2 = data2.drop('has_extended_profile', axis=1)\n",
    "\n",
    "data2.location.fillna('', inplace=True)\n",
    "data2.description.fillna('', inplace=True)\n",
    "data2.followers_count.fillna(0, inplace=True)\n",
    "data2.friends_count.fillna(0, inplace=True)\n",
    "data2.listedcount.fillna(0, inplace=True)\n",
    "data2.statuses_count.fillna(0, inplace=True)\n",
    "data2.favourites_count.fillna(0, inplace=True)\n",
    "data2.followers_count=data2.followers_count.astype(int)\n",
    "\n",
    "print(\"Did all the necessary changes for the data for evaluation\")"
   ]
  },
  {
   "cell_type": "code",
   "execution_count": 17,
   "metadata": {
    "collapsed": false,
    "scrolled": true
   },
   "outputs": [
    {
     "name": "stdout",
     "output_type": "stream",
     "text": [
      "Checking for the 'bot' word\n",
      "Checking for the 'bot' word in the screen names of the accounts\n",
      "No.of accounts which had 'bot' in screen name:  220\n",
      "accuracy 0.16666666666666666\n",
      "Checking for the 'bot' word in the names of the accounts\n",
      "No.of accounts which had 'bot' in names:  191\n",
      "accuracy 0.14469696969696969\n",
      "Checking for the 'bot' word in the description of the accounts\n",
      "No.of accounts which had 'bot' in names:  388\n",
      "accuracy 0.29393939393939394\n",
      "trying to search for 'bot' in names, screen_names & description\n",
      "if existed, we shall change value to 2\n",
      "total no of accounts with bot word in it 388\n",
      "total accuracy for bot word 0.29393939393939394\n"
     ]
    }
   ],
   "source": [
    "print(\"Checking for the 'bot' word\")\n",
    "data_description = data2['description'].str.lower()\n",
    "data_name = data2['name'].str.lower()\n",
    "data_screen_name = data2['screen_name'].str.lower()\n",
    "bot = 'bot'\n",
    "\n",
    "print(\"Checking for the 'bot' word in the screen names of the accounts\")\n",
    "count = 0\n",
    "serial = -1\n",
    "for x in data_screen_name:\n",
    "    serial = serial + 1\n",
    "    if bot in x:\n",
    "        data2.ix[serial, 'Value'] = 2\n",
    "        count += 1\n",
    "serial = -1\n",
    "\n",
    "print(\"No.of accounts which had 'bot' in screen name: \", count)\n",
    "print(\"accuracy\", count/data2.shape[0])\n",
    "\n",
    "print(\"Checking for the 'bot' word in the names of the accounts\")\n",
    "count2 = 0\n",
    "for x in data_name:\n",
    "    serial = serial + 1\n",
    "    try:\n",
    "        if bot in x:\n",
    "            data2.ix[serial, 'Value'] = 2\n",
    "            count2 += 1\n",
    "    except:\n",
    "        pass\n",
    "print(\"No.of accounts which had 'bot' in names: \", count2)\n",
    "print(\"accuracy\", count2/data2.shape[0])\n",
    "serial = -1\n",
    "print(\"Checking for the 'bot' word in the description of the accounts\")\n",
    "count3 = 0\n",
    "for x in data_description:\n",
    "    serial = serial + 1\n",
    "    try:\n",
    "        if bot in x:\n",
    "            data2.ix[serial, 'Value'] = 2\n",
    "            count3 += 1\n",
    "    except:\n",
    "        pass\n",
    "print(\"No.of accounts which had 'bot' in names: \", count3)\n",
    "print(\"accuracy\", count3/data2.shape[0])\n",
    "\n",
    "print(\"trying to search for 'bot' in names, screen_names & description\")\n",
    "print(\"if existed, we shall change value to 2\")\n",
    "print(\"total no of accounts with bot word in it\",max(count,count2,count3))\n",
    "\n",
    "print(\"total accuracy for bot word\", (max(count, count2, count3))/data2.shape[0])"
   ]
  },
  {
   "cell_type": "code",
   "execution_count": 18,
   "metadata": {
    "collapsed": false
   },
   "outputs": [
    {
     "data": {
      "image/png": "[encoded data removed]",
      "text/plain": [
       "<matplotlib.figure.Figure at 0x11854fcc0>"
      ]
     },
     "metadata": {},
     "output_type": "display_data"
    }
   ],
   "source": [
    "#plotting graph for bot word\n",
    "\n",
    "plt.plot(data2['no'],data2['Value'],'o')\n",
    "plt.xlabel('Number')\n",
    "plt.ylabel('Value')\n",
    "#axes.set_xlim([1,data2.shape[0]])\n",
    "#axes.set_ylim([1,3])\n",
    "plt.grid(True)"
   ]
  },
  {
   "cell_type": "code",
   "execution_count": 19,
   "metadata": {
    "collapsed": false
   },
   "outputs": [
    {
     "name": "stdout",
     "output_type": "stream",
     "text": [
      "trying to search for accounts with followers, friends or tweets in 0\n",
      "if there is some accounts like that we will consider them as 'starter' humans and assign value 3\n",
      "total no. of accounts found with either zero follower or tweets or friends 253\n",
      "accuracy 0.19166666666666668\n"
     ]
    }
   ],
   "source": [
    "#trying to remove accounts with zero followers/zero friends/zero tweets\n",
    "#Bias obtained from given data\n",
    "\n",
    "serial = -1\n",
    "count = 0\n",
    "unnec = []\n",
    "for x in range(0, data2.shape[0]):\n",
    "    try:\n",
    "        serial = serial + 1\n",
    "        if(data2.loc[serial, 'Value']==1):\n",
    "            if(data2.loc[serial, 'statuses_count']==0 or data2.loc[serial, 'followers_count']==0 or \n",
    "               data2.loc[serial, 'friends_count']==0 ):\n",
    "                data2.loc[serial, 'Value'] = 3\n",
    "                count+=1\n",
    "                \n",
    "            \n",
    "    except:\n",
    "        pass\n",
    "print(\"trying to search for accounts with followers, friends or tweets in 0\")\n",
    "print(\"if there is some accounts like that we will consider them as 'starter' humans and assign value 3\")\n",
    "print(\"total no. of accounts found with either zero follower or tweets or friends\",count)\n",
    "print(\"accuracy\", count/data2.shape[0])"
   ]
  },
  {
   "cell_type": "code",
   "execution_count": 20,
   "metadata": {
    "collapsed": false
   },
   "outputs": [
    {
     "name": "stdout",
     "output_type": "stream",
     "text": [
      "trying to filter accounts usually used by comman man (not celebrities or verified users)\n",
      "comman users have low tweet/following or tweet/friends and assigned value 3\n",
      "total no. of normal/comman users:  220\n",
      "accuracy 0.16666666666666666\n"
     ]
    }
   ],
   "source": [
    "#trying to filter accounts usually used by comman man (not celebrities or verified users)\n",
    "serial = -1\n",
    "count = 0\n",
    "unnec = []\n",
    "for x in range(0, data2.shape[0]):\n",
    "    try:\n",
    "        serial = serial + 1\n",
    "        if(data2.loc[serial, 'Value']==1):\n",
    "            if((data2.loc[serial, 'statuses_count']/data2.loc[serial, 'followers_count']<12 \n",
    "                and data2.loc[serial, 'statuses_count']/data2.loc[serial, 'friends_count']<12)):\n",
    "                data2.loc[serial, 'Value'] = 3\n",
    "                count+= 1\n",
    "    except:\n",
    "        pass\n",
    "print(\"trying to filter accounts usually used by comman man (not celebrities or verified users)\")\n",
    "print(\"comman users have low tweet/following or tweet/friends and assigned value 3\")\n",
    "print(\"total no. of normal/comman users: \",count)\n",
    "print(\"accuracy\", count/data2.shape[0])"
   ]
  },
  {
   "cell_type": "code",
   "execution_count": 21,
   "metadata": {
    "collapsed": false
   },
   "outputs": [
    {
     "name": "stdout",
     "output_type": "stream",
     "text": [
      "plotting graph to display the ratio of tweets to followers and friends\n"
     ]
    },
    {
     "data": {
      "image/png": "[encoded data removed]",
      "text/plain": [
       "<matplotlib.figure.Figure at 0x114c9fd68>"
      ]
     },
     "metadata": {},
     "output_type": "display_data"
    }
   ],
   "source": [
    "plt.plot(data2['no'],data2['statuses_count']/data2['followers_count'],'o', label = 'Status to follower ratio')\n",
    "plt.xlabel('Number')\n",
    "plt.ylabel('tweets to followers ratio')\n",
    "axes = plt.gca()\n",
    "axes = plt.gca()\n",
    "axes.set_xlim([0,data2.shape[0]])\n",
    "\n",
    "plt.grid(True)\n",
    "plt.plot(data2['no'],data2['statuses_count']/data2['friends_count'],'*', label = \"status to friend ratio\")\n",
    "plt.xlabel('Number')\n",
    "plt.ylabel('Ratio')\n",
    "plt.legend()\n",
    "axes = plt.gca()\n",
    "axes = plt.gca()\n",
    "#axes.set_xlim([0,50])\n",
    "#axes.set_ylim([0,4])\n",
    "plt.grid(True)\n",
    "print(\"plotting graph to display the ratio of tweets to followers and friends\")"
   ]
  },
  {
   "cell_type": "code",
   "execution_count": 22,
   "metadata": {
    "collapsed": false
   },
   "outputs": [
    {
     "name": "stdout",
     "output_type": "stream",
     "text": [
      "plotting graph at a lower ratio of ratio of tweets to followers and friends\n"
     ]
    },
    {
     "data": {
      "image/png": "[encoded data removed]",
      "text/plain": [
       "<matplotlib.figure.Figure at 0x118579080>"
      ]
     },
     "metadata": {},
     "output_type": "display_data"
    }
   ],
   "source": [
    "plt.plot(data2['no'],data2['statuses_count']/data2['followers_count'],'o', label = 'Status to follower ratio')\n",
    "plt.xlabel('Number')\n",
    "plt.ylabel('tweets to followers ratio')\n",
    "axes = plt.gca()\n",
    "axes = plt.gca()\n",
    "axes.set_xlim([0,data2.shape[0]])\n",
    "axes.set_ylim([0,20])\n",
    "\n",
    "plt.grid(True)\n",
    "plt.plot(data2['no'],data2['statuses_count']/data2['friends_count'],'*', label = \"status to friend ratio\")\n",
    "plt.xlabel('Number')\n",
    "plt.ylabel('Ratio')\n",
    "plt.legend()\n",
    "axes = plt.gca()\n",
    "axes = plt.gca()\n",
    "axes.set_ylim([0,20])\n",
    "#axes.set_xlim([0,50])\n",
    "#axes.set_ylim([0,4])\n",
    "plt.grid(True)\n",
    "print(\"plotting graph at a lower ratio of ratio of tweets to followers and friends\")"
   ]
  },
  {
   "cell_type": "code",
   "execution_count": 23,
   "metadata": {
    "collapsed": false
   },
   "outputs": [
    {
     "name": "stdout",
     "output_type": "stream",
     "text": [
      "trying to filter accounts which are verified all the verified user accounts are humans\n",
      "twitter user accounts which are verified are assigned to value 3\n",
      "total no. of verified users: 8\n",
      "accuracy 0.006060606060606061\n"
     ]
    }
   ],
   "source": [
    "#trying to filter accounts which are verified all the verified user accounts are humans\n",
    "#because twitter verifies users only \n",
    "serial = -1\n",
    "count = 0\n",
    "unnec = []\n",
    "for x in range(0, data2.shape[0]):\n",
    "    try:\n",
    "        serial = serial + 1\n",
    "        if(data2.loc[serial, 'verified']==1):\n",
    "            data2.loc[serial, 'Value'] = 3\n",
    "            count+= 1\n",
    "    except:\n",
    "        pass\n",
    "print(\"trying to filter accounts which are verified all the verified user accounts are humans\")\n",
    "print(\"twitter user accounts which are verified are assigned to value 3\")\n",
    "print(\"total no. of verified users:\", count)\n",
    "print(\"accuracy\", count/data2.shape[0])"
   ]
  },
  {
   "cell_type": "code",
   "execution_count": 24,
   "metadata": {
    "collapsed": false
   },
   "outputs": [
    {
     "name": "stdout",
     "output_type": "stream",
     "text": [
      "plotting graph to display the verified users\n"
     ]
    },
    {
     "data": {
      "image/png": "[encoded data removed]",
      "text/plain": [
       "<matplotlib.figure.Figure at 0x11854f2b0>"
      ]
     },
     "metadata": {},
     "output_type": "display_data"
    }
   ],
   "source": [
    "plt.plot(data2['no'],data2['verified'],'o')\n",
    "plt.xlabel('Number')\n",
    "plt.ylabel('Verified')\n",
    "axes = plt.gca()\n",
    "axes = plt.gca()\n",
    "axes.set_xlim([0,data2.shape[0]])\n",
    "plt.grid(True)\n",
    "\n",
    "print(\"plotting graph to display the verified users\")"
   ]
  },
  {
   "cell_type": "code",
   "execution_count": 25,
   "metadata": {
    "collapsed": false
   },
   "outputs": [
    {
     "name": "stdout",
     "output_type": "stream",
     "text": [
      "huge tweeting accounts\n",
      "huge rate tweet accounts are considered bots and retained values 2\n",
      "total no. of clever bots are: 0\n",
      "accuracy 0.0\n"
     ]
    }
   ],
   "source": [
    "#there might be some clever bots who dont have any description but follow huge number of poeople or they are followed\n",
    "#by huge number.\n",
    "serial = -1\n",
    "count = 0\n",
    "unnec = []\n",
    "for x in range(0, data2.shape[0]):\n",
    "    try:\n",
    "        serial = serial + 1\n",
    "        if(data.loc[serial, 'Value']==1 or data.loc[serial, 'Value']==2):\n",
    "            if((data2.loc[serial, 'statuses_count']/data2.loc[serial, 'followers_count']>10 \n",
    "                or data2.loc[serial, 'statuses_count']/data2.loc[serial, 'friends_count']>10)):\n",
    "                data2.loc[serial, 'Value'] = 2\n",
    "                count+= 1\n",
    "    except:\n",
    "        pass\n",
    "print(\"huge tweeting accounts\")\n",
    "print(\"huge rate tweet accounts are considered bots and retained values 2\")\n",
    "print(\"total no. of clever bots are:\", count)\n",
    "print(\"accuracy\", count/data2.shape[0])"
   ]
  },
  {
   "cell_type": "code",
   "execution_count": 26,
   "metadata": {
    "collapsed": false
   },
   "outputs": [
    {
     "name": "stdout",
     "output_type": "stream",
     "text": [
      "plotting graph to display the ratio of tweets to followers and friends\n"
     ]
    },
    {
     "data": {
      "image/png": "[encoded data removed]",
      "text/plain": [
       "<matplotlib.figure.Figure at 0x114d750f0>"
      ]
     },
     "metadata": {},
     "output_type": "display_data"
    }
   ],
   "source": [
    "plt.plot(data2['no'],data2['statuses_count']/data2['followers_count'],'o', label = 'Status to follower ratio')\n",
    "plt.xlabel('Number')\n",
    "plt.ylabel('tweets to followers ratio')\n",
    "axes = plt.gca()\n",
    "axes = plt.gca()\n",
    "axes.set_xlim([0,data2.shape[0]])\n",
    "\n",
    "plt.grid(True)\n",
    "plt.plot(data2['no'],data2['statuses_count']/data2['friends_count'],'*', label = \"status to friend ratio\")\n",
    "plt.xlabel('Number')\n",
    "plt.ylabel('Ratio')\n",
    "plt.legend()\n",
    "axes = plt.gca()\n",
    "axes = plt.gca()\n",
    "#axes.set_xlim([0,50])\n",
    "#axes.set_ylim([0,4])\n",
    "plt.grid(True)\n",
    "print(\"plotting graph to display the ratio of tweets to followers and friends\")"
   ]
  },
  {
   "cell_type": "code",
   "execution_count": 27,
   "metadata": {
    "collapsed": false
   },
   "outputs": [
    {
     "name": "stdout",
     "output_type": "stream",
     "text": [
      "preparing data for calculation of accuracy\n",
      "completely prepared data for accuracy calculation\n"
     ]
    }
   ],
   "source": [
    "print(\"preparing data for calculation of accuracy\")\n",
    "serial = -1\n",
    "count = 0\n",
    "unnec = []\n",
    "for x in range(0, data2.shape[0]):\n",
    "    try:\n",
    "        serial = serial + 1\n",
    "        if(data2.loc[serial, 'Value']==3):\n",
    "            data2.loc[serial, 'Value'] = 0\n",
    "        else:\n",
    "            data2.loc[serial, 'Value'] = 1\n",
    "        count+= 1\n",
    "    except:\n",
    "        pass\n",
    "print(\"completely prepared data for accuracy calculation\")"
   ]
  },
  {
   "cell_type": "code",
   "execution_count": 28,
   "metadata": {
    "collapsed": false
   },
   "outputs": [
    {
     "name": "stdout",
     "output_type": "stream",
     "text": [
      "Accuracy Score:  0.640151515152\n",
      "Confusion Matrix:\n",
      "[[  0   0]\n",
      " [475 845]]\n"
     ]
    }
   ],
   "source": [
    "data_value = data2['Value']\n",
    "datafinal = data2['bot']\n",
    "print(\"Accuracy Score: \", (accuracy_score(datafinal, data_value)))\n",
    "cnf_matrix = confusion_matrix(datafinal, data_value)\n",
    "print(\"Confusion Matrix:\")\n",
    "print(cnf_matrix)"
   ]
  },
  {
   "cell_type": "code",
   "execution_count": 29,
   "metadata": {
    "collapsed": false
   },
   "outputs": [],
   "source": [
    "TP = 0\n",
    "FP = 0\n",
    "TN = 0\n",
    "FN = 0\n",
    "for i in range(len(data_value)): \n",
    "    if datafinal[i]==data_value[i]==1:\n",
    "        TP += 1\n",
    "        #print(i)\n",
    "for i in range(len(data_value)): \n",
    "    if data_value[i]==1 and datafinal[i]!=data_value[i]:\n",
    "        FP += 1\n",
    "        #print(i)\n",
    "for i in range(len(data_value)): \n",
    "    if datafinal[i]==data_value[i]==0:\n",
    "        TN += 1\n",
    "        #print(i)\n",
    "for i in range(len(data_value)): \n",
    "    if data_value[i]==0 and datafinal[i]!=data_value[i]:\n",
    "        FN += 1\n",
    "        #print(i)"
   ]
  },
  {
   "cell_type": "code",
   "execution_count": null,
   "metadata": {
    "collapsed": true
   },
   "outputs": [],
   "source": []
  },
  {
   "cell_type": "code",
   "execution_count": null,
   "metadata": {
    "collapsed": true
   },
   "outputs": [],
   "source": []
  }
 ],
 "metadata": {
  "kernelspec": {
   "display_name": "Python 3",
   "language": "python",
   "name": "python3"
  },
  "language_info": {
   "codemirror_mode": {
    "name": "ipython",
    "version": 3
   },
   "file_extension": ".py",
   "mimetype": "text/x-python",
   "name": "python",
   "nbconvert_exporter": "python",
   "pygments_lexer": "ipython3",
   "version": "3.6.0"
  }
 },
 "nbformat": 4,
 "nbformat_minor": 2
}
