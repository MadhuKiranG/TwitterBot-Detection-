{
 "cells": [
  {
   "cell_type": "code",
   "execution_count": 1,
   "metadata": {
    "collapsed": false
   },
   "outputs": [],
   "source": [
    "import csv\n",
    "\n",
    "import re\n",
    "f = open('cleaned_users_tweets.csv','r')\n",
    "r1 = csv.reader(f)\n",
    "alltweets = []\n",
    "for row in r1:\n",
    "    if(len(row)!=0):\n",
    "        t=row[0]\n",
    "        alltweets.append(re.sub(r'x[0-9a-fA-F]+|RT',r'', t))\n",
    "    \n"
   ]
  },
  {
   "cell_type": "code",
   "execution_count": 2,
   "metadata": {
    "collapsed": true
   },
   "outputs": [],
   "source": [
    "f1 = open('cleaned_bots_tweets.csv','r')\n",
    "r2 = csv.reader(f1)\n",
    "alltweetsb = []\n",
    "for row in r2:\n",
    "    if(len(row)!=0):\n",
    "        t=row[0]\n",
    "        alltweetsb.append(re.sub(r'x[0-9a-fA-F]+|RT',r'', t))\n",
    "    \n"
   ]
  },
  {
   "cell_type": "code",
   "execution_count": 3,
   "metadata": {
    "collapsed": false
   },
   "outputs": [],
   "source": [
    "botdes=[]\n",
    "for i in range(0,len(alltweets)):\n",
    "    botdes.append(0)\n",
    "for i in range(0,len(alltweetsb)):\n",
    "    botdes.append(1)"
   ]
  },
  {
   "cell_type": "code",
   "execution_count": 4,
   "metadata": {
    "collapsed": true
   },
   "outputs": [],
   "source": [
    "data_tweets= alltweets+alltweetsb"
   ]
  },
  {
   "cell_type": "code",
   "execution_count": 5,
   "metadata": {
    "collapsed": false
   },
   "outputs": [],
   "source": [
    "import random\n",
    "\n",
    "c=zip(data_tweets,botdes)\n",
    "c=list(c)\n",
    "dd=random.sample(c,192)\n",
    "cross_v=[]\n",
    "for l in c:\n",
    "    if l not in dd:\n",
    "        cross_v.append(l)\n"
   ]
  },
  {
   "cell_type": "code",
   "execution_count": null,
   "metadata": {
    "collapsed": true
   },
   "outputs": [],
   "source": []
  },
  {
   "cell_type": "code",
   "execution_count": 6,
   "metadata": {
    "collapsed": false
   },
   "outputs": [],
   "source": [
    "tt=[]\n",
    "yy=[]\n",
    "for i in range(0,192):\n",
    "    tt.append(c[i][0]);\n",
    "for i in range(0,192):\n",
    "    yy.append(c[i][1]);\n",
    "cvc=[]\n",
    "for i in range(0,len(cross_v)):\n",
    "    cvc.append(cross_v[i][0])\n",
    "pp=[]\n",
    "for i in range(0,len(cross_v)):\n",
    "    pp.append(cross_v[i][1])\n"
   ]
  },
  {
   "cell_type": "code",
   "execution_count": 7,
   "metadata": {
    "collapsed": true
   },
   "outputs": [],
   "source": [
    "from sklearn.feature_extraction.text import CountVectorizer\n",
    "count_vect = CountVectorizer()\n",
    "X_train_counts = count_vect.fit_transform(tt)"
   ]
  },
  {
   "cell_type": "code",
   "execution_count": 8,
   "metadata": {
    "collapsed": false
   },
   "outputs": [
    {
     "name": "stdout",
     "output_type": "stream",
     "text": [
      "(192, 1049)\n"
     ]
    }
   ],
   "source": [
    "from sklearn.feature_extraction.text import TfidfTransformer\n",
    "tfidf_transformer = TfidfTransformer()\n",
    "X_train_tfidf = tfidf_transformer.fit_transform(X_train_counts)\n",
    "print(X_train_tfidf.shape)"
   ]
  },
  {
   "cell_type": "code",
   "execution_count": 9,
   "metadata": {
    "collapsed": false
   },
   "outputs": [],
   "source": [
    "from sklearn.naive_bayes import MultinomialNB\n",
    "import numpy as np\n",
    "with np.errstate(divide='ignore'):\n",
    "    clf = MultinomialNB().fit(X_train_tfidf, yy)\n",
    "    X_new_counts = count_vect.transform(cvc)\n",
    "    X_new_tfidf = tfidf_transformer.transform(X_new_counts)\n",
    "\n",
    "    predicted= clf.predict(X_new_tfidf);\n"
   ]
  },
  {
   "cell_type": "code",
   "execution_count": 10,
   "metadata": {
    "collapsed": false
   },
   "outputs": [
    {
     "name": "stdout",
     "output_type": "stream",
     "text": [
      "ACCURACY     PRECISION   RECALL     f1 Score   AUC\n",
      "0.40763099187 0.0 0.0 0.0 0.5\n"
     ]
    },
    {
     "name": "stderr",
     "output_type": "stream",
     "text": [
      "C:\\Users\\User\\Anaconda3\\lib\\site-packages\\sklearn\\metrics\\classification.py:1113: UndefinedMetricWarning: Precision is ill-defined and being set to 0.0 due to no predicted samples.\n",
      "  'precision', 'predicted', average, warn_for)\n",
      "C:\\Users\\User\\Anaconda3\\lib\\site-packages\\sklearn\\metrics\\classification.py:1113: UndefinedMetricWarning: F-score is ill-defined and being set to 0.0 due to no predicted samples.\n",
      "  'precision', 'predicted', average, warn_for)\n"
     ]
    }
   ],
   "source": [
    "from sklearn import metrics\n",
    "with np.errstate(divide='ignore'):\n",
    "    fpr, tpr, thresholds = metrics.roc_curve(pp, predicted)\n",
    "    print(\"ACCURACY     PRECISION   RECALL     f1 Score   AUC\")\n",
    "    print(metrics.accuracy_score(pp,predicted),metrics.precision_score(pp,predicted),metrics.recall_score(pp, predicted),\n",
    "metrics.f1_score(pp, predicted),metrics.auc(fpr,tpr));\n"
   ]
  },
  {
   "cell_type": "code",
   "execution_count": 13,
   "metadata": {
    "collapsed": false
   },
   "outputs": [
    {
     "data": {
      "text/plain": [
       "[<matplotlib.lines.Line2D at 0x184c23df780>]"
      ]
     },
     "execution_count": 13,
     "metadata": {},
     "output_type": "execute_result"
    }
   ],
   "source": [
    "import matplotlib.pyplot as plt\n",
    "roc_auc = metrics.auc(fpr, tpr)\n",
    "plt.plot(fpr, tpr, lw=2, color=\"blue\",\n",
    "label='ROC fold ')"
   ]
  },
  {
   "cell_type": "code",
   "execution_count": 14,
   "metadata": {
    "collapsed": false
   },
   "outputs": [
    {
     "data": {
      "image/png": "[encoded data removed]",
      "text/plain": [
       "<matplotlib.figure.Figure at 0x184c14204a8>"
      ]
     },
     "metadata": {},
     "output_type": "display_data"
    }
   ],
   "source": [
    "plt.show()"
   ]
  },
  {
   "cell_type": "code",
   "execution_count": null,
   "metadata": {
    "collapsed": true
   },
   "outputs": [],
   "source": []
  }
 ],
 "metadata": {
  "kernelspec": {
   "display_name": "Python 3",
   "language": "python",
   "name": "python3"
  },
  "language_info": {
   "codemirror_mode": {
    "name": "ipython",
    "version": 3
   },
   "file_extension": ".py",
   "mimetype": "text/x-python",
   "name": "python",
   "nbconvert_exporter": "python",
   "pygments_lexer": "ipython3",
   "version": "3.6.0"
  }
 },
 "nbformat": 4,
 "nbformat_minor": 2
}
