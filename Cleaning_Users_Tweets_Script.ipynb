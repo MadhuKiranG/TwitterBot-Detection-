{
 "cells": [
  {
   "cell_type": "code",
   "execution_count": 18,
   "metadata": {
    "collapsed": false
   },
   "outputs": [
    {
     "ename": "AttributeError",
     "evalue": "'str' object has no attribute 'decode'",
     "output_type": "error",
     "traceback": [
      "\u001b[0;31m---------------------------------------------------------------------------\u001b[0m",
      "\u001b[0;31mAttributeError\u001b[0m                            Traceback (most recent call last)",
      "\u001b[0;32m<ipython-input-18-3fe8e2d89811>\u001b[0m in \u001b[0;36m<module>\u001b[0;34m()\u001b[0m\n\u001b[1;32m     23\u001b[0m     \u001b[1;31m#j = all_tweets.pop(i)\u001b[0m\u001b[1;33m\u001b[0m\u001b[1;33m\u001b[0m\u001b[0m\n\u001b[1;32m     24\u001b[0m     \u001b[0mword_list\u001b[0m \u001b[1;33m=\u001b[0m \u001b[0mi\u001b[0m\u001b[1;33m\u001b[0m\u001b[0m\n\u001b[0;32m---> 25\u001b[0;31m     \u001b[0mword_list\u001b[0m\u001b[1;33m=\u001b[0m\u001b[0mword_list\u001b[0m\u001b[1;33m.\u001b[0m\u001b[0mdecode\u001b[0m\u001b[1;33m(\u001b[0m\u001b[1;34m'utf8'\u001b[0m\u001b[1;33m)\u001b[0m\u001b[1;33m.\u001b[0m\u001b[0mencode\u001b[0m\u001b[1;33m(\u001b[0m\u001b[1;34m'ascii'\u001b[0m\u001b[1;33m,\u001b[0m \u001b[0merrors\u001b[0m\u001b[1;33m=\u001b[0m\u001b[1;34m'ignore'\u001b[0m\u001b[1;33m)\u001b[0m\u001b[1;33m\u001b[0m\u001b[0m\n\u001b[0m\u001b[1;32m     26\u001b[0m     \u001b[1;31m#word_list=re.sub(r'[^\\w]',r'', word_list)\u001b[0m\u001b[1;33m\u001b[0m\u001b[1;33m\u001b[0m\u001b[0m\n\u001b[1;32m     27\u001b[0m     \u001b[0mword_list\u001b[0m \u001b[1;33m=\u001b[0m\u001b[1;34m' '\u001b[0m\u001b[1;33m.\u001b[0m\u001b[0mjoin\u001b[0m\u001b[1;33m(\u001b[0m\u001b[0mre\u001b[0m\u001b[1;33m.\u001b[0m\u001b[0msub\u001b[0m\u001b[1;33m(\u001b[0m\u001b[1;34m\"(@[A-Za-z0-9]+)|([^0-9A-Za-z \\t])|(\\w+:\\/\\/\\S+)\"\u001b[0m\u001b[1;33m,\u001b[0m\u001b[1;34m\" \"\u001b[0m\u001b[1;33m,\u001b[0m\u001b[0mword_list\u001b[0m\u001b[1;33m)\u001b[0m\u001b[1;33m.\u001b[0m\u001b[0msplit\u001b[0m\u001b[1;33m(\u001b[0m\u001b[1;33m)\u001b[0m\u001b[1;33m)\u001b[0m\u001b[1;33m\u001b[0m\u001b[0m\n",
      "\u001b[0;31mAttributeError\u001b[0m: 'str' object has no attribute 'decode'"
     ]
    }
   ],
   "source": [
    "import nltk\n",
    "from nltk.corpus import stopwords\n",
    "import re\n",
    "from nltk.tokenize import word_tokenize\n",
    "from nltk import PorterStemmer\n",
    "import csv\n",
    "import codecs\n",
    "f = open('users_tweets.csv','r',  encoding = \"ISO-8859-1\")\n",
    "reader = csv.reader(f)\n",
    "all_tweets = []\n",
    "\n",
    "\n",
    "for row in reader:\n",
    "   all_tweets.append(row[2])\n",
    "\n",
    "\n",
    "\n",
    "length = len(all_tweets)\n",
    "\n",
    "cleaned_users_tweets = []\n",
    "\n",
    "for i in all_tweets:\n",
    "    #j = all_tweets.pop(i)\n",
    "    word_list = i\n",
    "    word_list=word_list.decode('utf8').encode('ascii', errors='ignore')\n",
    "    #word_list=re.sub(r'[^\\w]',r'', word_list)\n",
    "    word_list =' '.join(re.sub(\"(@[A-Za-z0-9]+)|([^0-9A-Za-z \\t])|(\\w+:\\/\\/\\S+)\",\" \",word_list).split())\n",
    "    word_list = word_tokenize(word_list);\n",
    "    s=stopwords.words('english')\n",
    "    s.append('b')\n",
    "    s.append('RT')\n",
    "    filtered_words = [word for word in word_list if word not in s ]\n",
    "    t=PorterStemmer()\n",
    "    filtered_words1=[]\n",
    "    try:\n",
    "        for k in filtered_words:\n",
    "            filtered_words1.append(t.stem(k)+\" \")\n",
    "    except:\n",
    "        print(i)\n",
    "        pass\n",
    "    filtered_words1 = ''.join(filtered_words1)\n",
    "    cleaned_users_tweets.append(filtered_words1)\n",
    "    \n",
    "f = open('cleaned_users_tweets.csv', 'w')\n",
    "writer = csv.writer(f, dialect='excel', delimiter=\"\\n\")\n",
    "\n",
    "\n",
    "writer.writerows([cleaned_users_tweets])\n",
    "f.close();\n",
    "print (\"done\")"
   ]
  },
  {
   "cell_type": "code",
   "execution_count": 11,
   "metadata": {
    "collapsed": false
   },
   "outputs": [
    {
     "data": {
      "text/plain": [
       "5"
      ]
     },
     "execution_count": 11,
     "metadata": {},
     "output_type": "execute_result"
    }
   ],
   "source": [
    "n=5\n",
    "n"
   ]
  },
  {
   "cell_type": "code",
   "execution_count": null,
   "metadata": {
    "collapsed": true
   },
   "outputs": [],
   "source": []
  }
 ],
 "metadata": {
  "kernelspec": {
   "display_name": "Python 3",
   "language": "python",
   "name": "python3"
  },
  "language_info": {
   "codemirror_mode": {
    "name": "ipython",
    "version": 3
   },
   "file_extension": ".py",
   "mimetype": "text/x-python",
   "name": "python",
   "nbconvert_exporter": "python",
   "pygments_lexer": "ipython3",
   "version": "3.6.0"
  }
 },
 "nbformat": 4,
 "nbformat_minor": 2
}
